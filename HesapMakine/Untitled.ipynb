{
 "cells": [
  {
   "cell_type": "code",
   "execution_count": null,
   "metadata": {},
   "outputs": [],
   "source": [
    "''' Program make a simple calculator that can add, subtract, multiply and divide using functions '''\n",
    "\n",
    "# This function adds two numbers \n",
    "def ekle(x, y):\n",
    "   return x + y\n",
    "\n",
    "# This function subtracts two numbers \n",
    "def cikar(x, y):\n",
    "   return x - y\n",
    "\n",
    "# This function multiplies two numbers\n",
    "def carp(x, y):\n",
    "   return x * y\n",
    "\n",
    "# This function divides two numbers\n",
    "def bol(x, y):\n",
    "   return x / y\n",
    "\n",
    "print(\"İşlemi Seç.\")\n",
    "print(\"1.Ekle\")\n",
    "print(\"2.Çıkar\")\n",
    "print(\"3.Çarp\")\n",
    "print(\"4.Böl\")\n",
    "\n",
    "# Take input from the user \n",
    "choice = input(\"Seçiminizi Giriniz (1/2/3/4):\")\n",
    "\n",
    "num1 = int(input(\"İlk Sayı : \"))\n",
    "num2 = int(input(\"İkinci Sayı : \"))\n",
    "\n",
    "if choice == '1':\n",
    "   print(num1,\"+\",num2,\"=\", ekle(num1,num2))\n",
    "\n",
    "elif choice == '2':\n",
    "   print(num1,\"-\",num2,\"=\", cikar(num1,num2))\n",
    "\n",
    "elif choice == '3':\n",
    "   print(num1,\"*\",num2,\"=\", carp(num1,num2))\n",
    "\n",
    "elif choice == '4':\n",
    "   print(num1,\"/\",num2,\"=\", bol(num1,num2))\n",
    "else:\n",
    "   print(\"Geçersiz Değer\")"
   ]
  },
  {
   "cell_type": "code",
   "execution_count": null,
   "metadata": {},
   "outputs": [],
   "source": []
  }
 ],
 "metadata": {
  "kernelspec": {
   "display_name": "Python 3",
   "language": "python",
   "name": "python3"
  },
  "language_info": {
   "codemirror_mode": {
    "name": "ipython",
    "version": 3
   },
   "file_extension": ".py",
   "mimetype": "text/x-python",
   "name": "python",
   "nbconvert_exporter": "python",
   "pygments_lexer": "ipython3",
   "version": "3.6.4"
  }
 },
 "nbformat": 4,
 "nbformat_minor": 2
}
